{
  "nbformat": 4,
  "nbformat_minor": 0,
  "metadata": {
    "colab": {
      "name": "NLP Assignment1.ipynb",
      "provenance": [],
      "collapsed_sections": [
        "aJHETkdIaUse",
        "iCiwkkrkaKm8"
      ]
    },
    "kernelspec": {
      "name": "python3",
      "display_name": "Python 3"
    }
  },
  "cells": [
    {
      "cell_type": "code",
      "metadata": {
        "id": "zmOAl0-3kSQz"
      },
      "source": [
        "import nltk\r\n",
        "nltk.download('all')\r\n",
        "from nltk.corpus import movie_reviews\r\n",
        "from nltk.tokenize import PunktSentenceTokenizer"
      ],
      "execution_count": null,
      "outputs": []
    },
    {
      "cell_type": "code",
      "metadata": {
        "id": "QpiKUmN-kdgu"
      },
      "source": [
        "movie_reviews.fileids()"
      ],
      "execution_count": null,
      "outputs": []
    },
    {
      "cell_type": "code",
      "metadata": {
        "id": "jogkcXmRkhTM"
      },
      "source": [
        "MOVIEREV=movie_reviews.raw('neg/cv952_26375.txt')\r\n",
        "MOVIEREV"
      ],
      "execution_count": null,
      "outputs": []
    },
    {
      "cell_type": "code",
      "metadata": {
        "colab": {
          "base_uri": "https://localhost:8080/"
        },
        "id": "eECP9f3Im07n",
        "outputId": "119a6f8d-cefa-4e7d-94ae-41b7992f3e04"
      },
      "source": [
        "sentence_tokenizer=PunktSentenceTokenizer(MOVIEREV)\r\n",
        "sentence_tokenizer"
      ],
      "execution_count": null,
      "outputs": [
        {
          "output_type": "execute_result",
          "data": {
            "text/plain": [
              "<nltk.tokenize.punkt.PunktSentenceTokenizer at 0x7f58a2f01748>"
            ]
          },
          "metadata": {
            "tags": []
          },
          "execution_count": 7
        }
      ]
    },
    {
      "cell_type": "code",
      "metadata": {
        "id": "AIkFa4opm7a-"
      },
      "source": [
        "tokenized_reviews=sentence_tokenizer.tokenize(MOVIEREV)\r\n",
        "tokenized_reviews"
      ],
      "execution_count": null,
      "outputs": []
    },
    {
      "cell_type": "code",
      "metadata": {
        "id": "Exp1vSn2m0-x"
      },
      "source": [
        "def process():\r\n",
        "  for i in tokenized_reviews:\r\n",
        "    words=nltk.word_tokenize(i)\r\n",
        "    tag=nltk.pos_tag(words)\r\n",
        "    print(tag)\r\n",
        "process()"
      ],
      "execution_count": null,
      "outputs": []
    },
    {
      "cell_type": "code",
      "metadata": {
        "id": "TGDhRN7vm1Bi"
      },
      "source": [
        "movie_reviews.categories()"
      ],
      "execution_count": null,
      "outputs": []
    },
    {
      "cell_type": "markdown",
      "metadata": {
        "id": "aJHETkdIaUse"
      },
      "source": [
        "## Q1"
      ]
    },
    {
      "cell_type": "code",
      "metadata": {
        "id": "7cBDeEhipPub"
      },
      "source": [
        "movie_reviews.fileids('pos')"
      ],
      "execution_count": null,
      "outputs": []
    },
    {
      "cell_type": "code",
      "metadata": {
        "id": "BFEMiaohpZ35"
      },
      "source": [
        "MOVIEREV_2=movie_reviews.raw('pos/cv000_29590.txt')\r\n",
        "sentence_tokenizer=PunktSentenceTokenizer(MOVIEREV_2)\r\n",
        "POSITIVE_REV=sentence_tokenizer.tokenize(MOVIEREV_2)\r\n",
        "POSITIVE_REV"
      ],
      "execution_count": null,
      "outputs": []
    },
    {
      "cell_type": "code",
      "metadata": {
        "id": "-LmQlJC0qRpL"
      },
      "source": [
        "def process():\r\n",
        "  for i in tokenized_reviews:\r\n",
        "    words=nltk.word_tokenize(i)\r\n",
        "    tag=nltk.pos_tag(words)\r\n",
        "    print(tag)\r\n",
        "process()"
      ],
      "execution_count": null,
      "outputs": []
    },
    {
      "cell_type": "markdown",
      "metadata": {
        "id": "iCiwkkrkaKm8"
      },
      "source": [
        "# Q2"
      ]
    },
    {
      "cell_type": "code",
      "metadata": {
        "id": "w5W0EaN6rHWq"
      },
      "source": [
        "from nltk.corpus import stopwords\r\n",
        "stopword=stopwords.words('english')\r\n",
        "stopword"
      ],
      "execution_count": null,
      "outputs": []
    },
    {
      "cell_type": "code",
      "metadata": {
        "id": "6F3uFjx1rP2R"
      },
      "source": [
        "num_text=0\r\n",
        "def removestop(num_text):\r\n",
        "  for i in tokenized_reviews:\r\n",
        "    words=nltk.word_tokenize(i)\r\n",
        "    if words not in stopword:\r\n",
        "      num_text=num_text+1\r\n",
        "  print(num_text)\r\n",
        "removestop(num_text)"
      ],
      "execution_count": null,
      "outputs": []
    }
  ]
}